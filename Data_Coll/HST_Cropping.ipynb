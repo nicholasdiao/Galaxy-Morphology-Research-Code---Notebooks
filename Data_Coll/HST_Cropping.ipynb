{
 "cells": [
  {
   "cell_type": "markdown",
   "metadata": {},
   "source": [
    "Cropping all Hubble images to be 335x335"
   ]
  },
  {
   "cell_type": "code",
   "execution_count": 7,
   "metadata": {
    "collapsed": false
   },
   "outputs": [],
   "source": [
    "import numpy as np\n",
    "import pandas as pd\n",
    "import glob\n",
    "from astropy.io import fits"
   ]
  },
  {
   "cell_type": "code",
   "execution_count": 8,
   "metadata": {
    "collapsed": true
   },
   "outputs": [],
   "source": [
    "from PIL import Image"
   ]
  },
  {
   "cell_type": "code",
   "execution_count": 37,
   "metadata": {
    "collapsed": true
   },
   "outputs": [],
   "source": [
    "def zeropad(n,zeros=4):\n",
    "    \"Pad number n with zeros. Example: zeropad(7,3) == '007'\"\n",
    "    nstr = str(n)\n",
    "    while len(nstr) < zeros:\n",
    "        nstr = \"0\" + nstr\n",
    "    return nstr"
   ]
  },
  {
   "cell_type": "code",
   "execution_count": 6,
   "metadata": {
    "collapsed": false
   },
   "outputs": [],
   "source": [
    "#opening up main dataset for galaxies with images\n",
    "ds = pd.read_csv('/Users/Nick/IS/Datasets/cat_USE.csv', delim_whitespace= True, skiprows =0 )\n",
    "idlst = ds['ID']"
   ]
  },
  {
   "cell_type": "code",
   "execution_count": 9,
   "metadata": {
    "collapsed": false
   },
   "outputs": [
    {
     "data": {
      "text/plain": [
       "3372"
      ]
     },
     "execution_count": 9,
     "metadata": {},
     "output_type": "execute_result"
    }
   ],
   "source": [
    "#pulling all HST images\n",
    "filefits = glob.glob('/Users/Nick/IS/HST_Images/All/*.fits')\n",
    "len(filefits)"
   ]
  },
  {
   "cell_type": "code",
   "execution_count": 32,
   "metadata": {
    "collapsed": false
   },
   "outputs": [],
   "source": [
    "#checking output of a single image\n",
    "hdu = fits.open(filefits[0])\n",
    "HST = hdu[0].data"
   ]
  },
  {
   "cell_type": "code",
   "execution_count": 33,
   "metadata": {
    "collapsed": false
   },
   "outputs": [
    {
     "data": {
      "text/plain": [
       "array([[ -6.22337393e-04,  -3.05601000e-03,  -4.31863032e-03, ...,\n",
       "         -2.53050384e-04,  -1.33020268e-03,   7.55075671e-05],\n",
       "       [ -3.05743073e-03,  -5.44987293e-03,  -4.08971496e-03, ...,\n",
       "          1.79172342e-03,   1.01992488e-03,   1.22428883e-03],\n",
       "       [ -1.18007453e-03,  -5.27790422e-03,  -3.91028076e-03, ...,\n",
       "          5.43932896e-04,   1.83238904e-03,   9.15299897e-05],\n",
       "       ..., \n",
       "       [ -1.27993117e-03,   1.85022174e-04,  -6.34537311e-04, ...,\n",
       "         -3.48579022e-03,  -1.44461251e-03,  -1.97944581e-03],\n",
       "       [ -3.83026013e-03,  -2.91390135e-03,  -6.29812363e-04, ...,\n",
       "          1.06279127e-04,   1.37660676e-03,   2.54838541e-03],\n",
       "       [ -3.25655472e-03,  -2.26365100e-03,  -6.58071018e-04, ...,\n",
       "          1.94096938e-03,  -3.47712706e-03,  -2.73385667e-03]])"
      ]
     },
     "execution_count": 33,
     "metadata": {},
     "output_type": "execute_result"
    }
   ],
   "source": [
    "HST"
   ]
  },
  {
   "cell_type": "markdown",
   "metadata": {},
   "source": [
    "Below is where I run through all galaxy images and reshape, then write to file"
   ]
  },
  {
   "cell_type": "code",
   "execution_count": 38,
   "metadata": {
    "collapsed": false
   },
   "outputs": [],
   "source": [
    "\n",
    "for fnum in range (0, len(filefits)):\n",
    "    hdu = fits.open(filefits[fnum])\n",
    "    HST = hdu[0].data\n",
    "    crop_face = HST[84: 419, 84: 419]\n",
    "    hdu_h = hdu[0].header\n",
    "    hdu_n = fits.PrimaryHDU(crop_face, header=hdu_h)\n",
    "    fitsfile = fits.HDUList([hdu_n])\n",
    "    fitsfile.writeto('/Users/Nick/IS/HST_Images/Cropped/%sID%s.fits' % (str(zeropad(fnum)), (str(idlst[fnum]))))"
   ]
  },
  {
   "cell_type": "code",
   "execution_count": null,
   "metadata": {
    "collapsed": true
   },
   "outputs": [],
   "source": []
  }
 ],
 "metadata": {
  "kernelspec": {
   "display_name": "Python 2",
   "language": "python",
   "name": "python2"
  },
  "language_info": {
   "codemirror_mode": {
    "name": "ipython",
    "version": 2
   },
   "file_extension": ".py",
   "mimetype": "text/x-python",
   "name": "python",
   "nbconvert_exporter": "python",
   "pygments_lexer": "ipython2",
   "version": "2.7.11"
  }
 },
 "nbformat": 4,
 "nbformat_minor": 0
}
