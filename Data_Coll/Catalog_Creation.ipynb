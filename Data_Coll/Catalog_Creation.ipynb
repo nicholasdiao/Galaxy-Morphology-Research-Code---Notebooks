{
 "cells": [
  {
   "cell_type": "markdown",
   "metadata": {},
   "source": [
    "Below is where I combine data from multiple sky surveys that have covered the same galaxies"
   ]
  },
  {
   "cell_type": "code",
   "execution_count": 1,
   "metadata": {
    "collapsed": true
   },
   "outputs": [],
   "source": [
    "import pandas as pd\n",
    "import numpy as np"
   ]
  },
  {
   "cell_type": "code",
   "execution_count": 2,
   "metadata": {
    "collapsed": false
   },
   "outputs": [],
   "source": [
    "UVcat = pd.read_csv('/Users/Nick/IS/Datasets/Online_Datasets/UVISTA_final_BC03_v4.1.fout', delim_whitespace = True, skiprows = 16)"
   ]
  },
  {
   "cell_type": "code",
   "execution_count": 3,
   "metadata": {
    "collapsed": false
   },
   "outputs": [],
   "source": [
    "data2 = pd.read_csv('/Users/Nick/IS/Datasets/Online_Datasets/OnlineData3.dat', delim_whitespace = True)"
   ]
  },
  {
   "cell_type": "code",
   "execution_count": 4,
   "metadata": {
    "collapsed": false
   },
   "outputs": [],
   "source": [
    "data3 = pd.read_csv('/Users/Nick/IS/Datasets/Online_Datasets/OnlineData5.cat', delim_whitespace = True)"
   ]
  },
  {
   "cell_type": "code",
   "execution_count": 5,
   "metadata": {
    "collapsed": false
   },
   "outputs": [],
   "source": [
    "#create an empty dataframe\n",
    "catalog1 = pd.DataFrame()"
   ]
  },
  {
   "cell_type": "code",
   "execution_count": 6,
   "metadata": {
    "collapsed": false,
    "scrolled": false
   },
   "outputs": [
    {
     "data": {
      "text/html": [
       "<div>\n",
       "<table border=\"1\" class=\"dataframe\">\n",
       "  <thead>\n",
       "    <tr style=\"text-align: right;\">\n",
       "      <th></th>\n",
       "      <th>id</th>\n",
       "      <th>ra</th>\n",
       "      <th>dec</th>\n",
       "      <th>xpix</th>\n",
       "      <th>ypix</th>\n",
       "      <th>Ks_tot</th>\n",
       "      <th>eKs_tot</th>\n",
       "      <th>Ks</th>\n",
       "      <th>eKs</th>\n",
       "      <th>H</th>\n",
       "      <th>...</th>\n",
       "      <th>apcor</th>\n",
       "      <th>z_spec</th>\n",
       "      <th>z_spec_cc</th>\n",
       "      <th>z_spec_id</th>\n",
       "      <th>star</th>\n",
       "      <th>contamination</th>\n",
       "      <th>nan_contam</th>\n",
       "      <th>orig_cat_id</th>\n",
       "      <th>orig_cat_field</th>\n",
       "      <th>USE</th>\n",
       "    </tr>\n",
       "  </thead>\n",
       "  <tbody>\n",
       "    <tr>\n",
       "      <th>0</th>\n",
       "      <td>1</td>\n",
       "      <td>150.37265</td>\n",
       "      <td>1.609394</td>\n",
       "      <td>11986.75879</td>\n",
       "      <td>4343.98486</td>\n",
       "      <td>6345.683</td>\n",
       "      <td>8.535</td>\n",
       "      <td>2458.348</td>\n",
       "      <td>3.069</td>\n",
       "      <td>2554.732</td>\n",
       "      <td>...</td>\n",
       "      <td>1.00000</td>\n",
       "      <td>-1.0</td>\n",
       "      <td>-1.0</td>\n",
       "      <td>-1</td>\n",
       "      <td>0</td>\n",
       "      <td>0</td>\n",
       "      <td>2</td>\n",
       "      <td>230</td>\n",
       "      <td>1</td>\n",
       "      <td>1</td>\n",
       "    </tr>\n",
       "    <tr>\n",
       "      <th>1</th>\n",
       "      <td>2</td>\n",
       "      <td>150.40848</td>\n",
       "      <td>1.607504</td>\n",
       "      <td>11126.90527</td>\n",
       "      <td>4298.73779</td>\n",
       "      <td>2326.038</td>\n",
       "      <td>3.374</td>\n",
       "      <td>1683.321</td>\n",
       "      <td>2.562</td>\n",
       "      <td>2624.063</td>\n",
       "      <td>...</td>\n",
       "      <td>1.00000</td>\n",
       "      <td>-1.0</td>\n",
       "      <td>-1.0</td>\n",
       "      <td>-1</td>\n",
       "      <td>1</td>\n",
       "      <td>0</td>\n",
       "      <td>11</td>\n",
       "      <td>295</td>\n",
       "      <td>1</td>\n",
       "      <td>0</td>\n",
       "    </tr>\n",
       "    <tr>\n",
       "      <th>2</th>\n",
       "      <td>3</td>\n",
       "      <td>150.40550</td>\n",
       "      <td>1.606911</td>\n",
       "      <td>11198.41992</td>\n",
       "      <td>4284.49414</td>\n",
       "      <td>223.931</td>\n",
       "      <td>3.299</td>\n",
       "      <td>111.582</td>\n",
       "      <td>0.887</td>\n",
       "      <td>94.436</td>\n",
       "      <td>...</td>\n",
       "      <td>1.00000</td>\n",
       "      <td>-1.0</td>\n",
       "      <td>-1.0</td>\n",
       "      <td>-1</td>\n",
       "      <td>0</td>\n",
       "      <td>0</td>\n",
       "      <td>0</td>\n",
       "      <td>314</td>\n",
       "      <td>1</td>\n",
       "      <td>1</td>\n",
       "    </tr>\n",
       "    <tr>\n",
       "      <th>3</th>\n",
       "      <td>4</td>\n",
       "      <td>150.39050</td>\n",
       "      <td>1.604330</td>\n",
       "      <td>11558.18359</td>\n",
       "      <td>4222.49707</td>\n",
       "      <td>33.437</td>\n",
       "      <td>1.502</td>\n",
       "      <td>23.667</td>\n",
       "      <td>0.681</td>\n",
       "      <td>16.188</td>\n",
       "      <td>...</td>\n",
       "      <td>1.00248</td>\n",
       "      <td>-1.0</td>\n",
       "      <td>-1.0</td>\n",
       "      <td>-1</td>\n",
       "      <td>0</td>\n",
       "      <td>0</td>\n",
       "      <td>0</td>\n",
       "      <td>322</td>\n",
       "      <td>1</td>\n",
       "      <td>1</td>\n",
       "    </tr>\n",
       "    <tr>\n",
       "      <th>4</th>\n",
       "      <td>5</td>\n",
       "      <td>150.40334</td>\n",
       "      <td>1.606078</td>\n",
       "      <td>11250.56543</td>\n",
       "      <td>4264.48291</td>\n",
       "      <td>214.863</td>\n",
       "      <td>2.457</td>\n",
       "      <td>119.658</td>\n",
       "      <td>0.903</td>\n",
       "      <td>106.466</td>\n",
       "      <td>...</td>\n",
       "      <td>1.00000</td>\n",
       "      <td>-1.0</td>\n",
       "      <td>-1.0</td>\n",
       "      <td>-1</td>\n",
       "      <td>0</td>\n",
       "      <td>0</td>\n",
       "      <td>0</td>\n",
       "      <td>340</td>\n",
       "      <td>1</td>\n",
       "      <td>1</td>\n",
       "    </tr>\n",
       "  </tbody>\n",
       "</table>\n",
       "<p>5 rows × 80 columns</p>\n",
       "</div>"
      ],
      "text/plain": [
       "   id         ra       dec         xpix        ypix    Ks_tot  eKs_tot  \\\n",
       "0   1  150.37265  1.609394  11986.75879  4343.98486  6345.683    8.535   \n",
       "1   2  150.40848  1.607504  11126.90527  4298.73779  2326.038    3.374   \n",
       "2   3  150.40550  1.606911  11198.41992  4284.49414   223.931    3.299   \n",
       "3   4  150.39050  1.604330  11558.18359  4222.49707    33.437    1.502   \n",
       "4   5  150.40334  1.606078  11250.56543  4264.48291   214.863    2.457   \n",
       "\n",
       "         Ks    eKs         H ...     apcor  z_spec  z_spec_cc  z_spec_id  \\\n",
       "0  2458.348  3.069  2554.732 ...   1.00000    -1.0       -1.0         -1   \n",
       "1  1683.321  2.562  2624.063 ...   1.00000    -1.0       -1.0         -1   \n",
       "2   111.582  0.887    94.436 ...   1.00000    -1.0       -1.0         -1   \n",
       "3    23.667  0.681    16.188 ...   1.00248    -1.0       -1.0         -1   \n",
       "4   119.658  0.903   106.466 ...   1.00000    -1.0       -1.0         -1   \n",
       "\n",
       "   star  contamination  nan_contam  orig_cat_id  orig_cat_field  USE  \n",
       "0     0              0           2          230               1    1  \n",
       "1     1              0          11          295               1    0  \n",
       "2     0              0           0          314               1    1  \n",
       "3     0              0           0          322               1    1  \n",
       "4     0              0           0          340               1    1  \n",
       "\n",
       "[5 rows x 80 columns]"
      ]
     },
     "execution_count": 6,
     "metadata": {},
     "output_type": "execute_result"
    }
   ],
   "source": [
    "#checking columns of dataset\n",
    "data3.head()"
   ]
  },
  {
   "cell_type": "code",
   "execution_count": 8,
   "metadata": {
    "collapsed": true
   },
   "outputs": [],
   "source": [
    "#creating corrosponding columns for the data I want \n",
    "catalog1['ID'] = data2['ID']\n",
    "catalog1['z_peak'] = data2['z_peak']\n",
    "catalog1['UmV'] = data2['UmV']\n",
    "catalog1['VmJ'] = data2['VmJ']\n",
    "catalog1[\"SFR_UV\"] = data2[\"SFR_UV\"]\n",
    "catalog1[\"SFR_IR\"] = data2[\"SFR_IR\"]\n",
    "catalog1['SFR_tot'] = data2['SFR_tot']\n",
    "catalog1['LMASS'] = data2['LMASS']\n",
    "catalog1['ra'] = data3['ra']\n",
    "catalog1['dec'] = data3['dec']\n",
    "catalog1['USE'] = data3['USE']"
   ]
  },
  {
   "cell_type": "code",
   "execution_count": 9,
   "metadata": {
    "collapsed": false
   },
   "outputs": [
    {
     "name": "stdout",
     "output_type": "stream",
     "text": [
      "262615\n"
     ]
    }
   ],
   "source": [
    "print len(catalog1)"
   ]
  },
  {
   "cell_type": "code",
   "execution_count": 10,
   "metadata": {
    "collapsed": false
   },
   "outputs": [],
   "source": [
    "catalog2 = catalog1[catalog1['USE'] == 1]"
   ]
  },
  {
   "cell_type": "code",
   "execution_count": 11,
   "metadata": {
    "collapsed": false
   },
   "outputs": [
    {
     "name": "stdout",
     "output_type": "stream",
     "text": [
      "166641\n"
     ]
    }
   ],
   "source": [
    "print len(catalog2)"
   ]
  },
  {
   "cell_type": "code",
   "execution_count": 12,
   "metadata": {
    "collapsed": true
   },
   "outputs": [],
   "source": [
    "catalog2.to_csv('/Users/Nick/IS/Datasets/catalog2_USE.csv', sep = ' ')"
   ]
  },
  {
   "cell_type": "code",
   "execution_count": 14,
   "metadata": {
    "collapsed": true
   },
   "outputs": [],
   "source": [
    "cat = catalog1"
   ]
  },
  {
   "cell_type": "code",
   "execution_count": 15,
   "metadata": {
    "collapsed": true
   },
   "outputs": [],
   "source": [
    "#selecting galaxies in our desired mass range\n",
    "lmass = cat[\"LMASS\"]\n",
    "z_peak = cat['z_peak']\n",
    "ii = ((lmass>= 9.0) & (lmass<=10.0) & (z_peak>=0.3) & (z_peak<= 0.4))"
   ]
  },
  {
   "cell_type": "code",
   "execution_count": 18,
   "metadata": {
    "collapsed": false
   },
   "outputs": [
    {
     "name": "stdout",
     "output_type": "stream",
     "text": [
      "(4265, 11)\n"
     ]
    }
   ],
   "source": [
    "cat2 = cat[ii]\n",
    "print np.shape(cat2)"
   ]
  },
  {
   "cell_type": "code",
   "execution_count": 19,
   "metadata": {
    "collapsed": false
   },
   "outputs": [
    {
     "data": {
      "text/html": [
       "<div>\n",
       "<table border=\"1\" class=\"dataframe\">\n",
       "  <thead>\n",
       "    <tr style=\"text-align: right;\">\n",
       "      <th></th>\n",
       "      <th>ID</th>\n",
       "      <th>z_peak</th>\n",
       "      <th>UmV</th>\n",
       "      <th>VmJ</th>\n",
       "      <th>SFR_UV</th>\n",
       "      <th>SFR_IR</th>\n",
       "      <th>SFR_tot</th>\n",
       "      <th>LMASS</th>\n",
       "      <th>ra</th>\n",
       "      <th>dec</th>\n",
       "      <th>USE</th>\n",
       "    </tr>\n",
       "  </thead>\n",
       "  <tbody>\n",
       "    <tr>\n",
       "      <th>0</th>\n",
       "      <td>34</td>\n",
       "      <td>0.3185</td>\n",
       "      <td>2.38</td>\n",
       "      <td>1.27</td>\n",
       "      <td>0.012</td>\n",
       "      <td>-0.794</td>\n",
       "      <td>0.012</td>\n",
       "      <td>9.71</td>\n",
       "      <td>150.38348</td>\n",
       "      <td>1.609724</td>\n",
       "      <td>0</td>\n",
       "    </tr>\n",
       "    <tr>\n",
       "      <th>1</th>\n",
       "      <td>60</td>\n",
       "      <td>0.3642</td>\n",
       "      <td>1.10</td>\n",
       "      <td>0.77</td>\n",
       "      <td>0.244</td>\n",
       "      <td>-1.134</td>\n",
       "      <td>0.244</td>\n",
       "      <td>9.17</td>\n",
       "      <td>150.40163</td>\n",
       "      <td>1.615784</td>\n",
       "      <td>1</td>\n",
       "    </tr>\n",
       "    <tr>\n",
       "      <th>2</th>\n",
       "      <td>85</td>\n",
       "      <td>0.3480</td>\n",
       "      <td>1.12</td>\n",
       "      <td>0.74</td>\n",
       "      <td>0.311</td>\n",
       "      <td>-1.004</td>\n",
       "      <td>0.311</td>\n",
       "      <td>9.24</td>\n",
       "      <td>150.37434</td>\n",
       "      <td>1.619130</td>\n",
       "      <td>1</td>\n",
       "    </tr>\n",
       "    <tr>\n",
       "      <th>3</th>\n",
       "      <td>136</td>\n",
       "      <td>0.3361</td>\n",
       "      <td>1.57</td>\n",
       "      <td>1.10</td>\n",
       "      <td>0.113</td>\n",
       "      <td>0.151</td>\n",
       "      <td>0.264</td>\n",
       "      <td>9.46</td>\n",
       "      <td>150.37727</td>\n",
       "      <td>1.627746</td>\n",
       "      <td>1</td>\n",
       "    </tr>\n",
       "    <tr>\n",
       "      <th>4</th>\n",
       "      <td>137</td>\n",
       "      <td>0.3600</td>\n",
       "      <td>1.22</td>\n",
       "      <td>0.79</td>\n",
       "      <td>0.682</td>\n",
       "      <td>0.310</td>\n",
       "      <td>0.992</td>\n",
       "      <td>9.68</td>\n",
       "      <td>150.39919</td>\n",
       "      <td>1.629076</td>\n",
       "      <td>1</td>\n",
       "    </tr>\n",
       "  </tbody>\n",
       "</table>\n",
       "</div>"
      ],
      "text/plain": [
       "    ID  z_peak   UmV   VmJ  SFR_UV  SFR_IR  SFR_tot  LMASS         ra  \\\n",
       "0   34  0.3185  2.38  1.27   0.012  -0.794    0.012   9.71  150.38348   \n",
       "1   60  0.3642  1.10  0.77   0.244  -1.134    0.244   9.17  150.40163   \n",
       "2   85  0.3480  1.12  0.74   0.311  -1.004    0.311   9.24  150.37434   \n",
       "3  136  0.3361  1.57  1.10   0.113   0.151    0.264   9.46  150.37727   \n",
       "4  137  0.3600  1.22  0.79   0.682   0.310    0.992   9.68  150.39919   \n",
       "\n",
       "        dec  USE  \n",
       "0  1.609724    0  \n",
       "1  1.615784    1  \n",
       "2  1.619130    1  \n",
       "3  1.627746    1  \n",
       "4  1.629076    1  "
      ]
     },
     "execution_count": 19,
     "metadata": {},
     "output_type": "execute_result"
    }
   ],
   "source": [
    "cat2 = cat2.reset_index()\n",
    "del cat2['index']\n",
    "cat2[0:5]"
   ]
  },
  {
   "cell_type": "code",
   "execution_count": 20,
   "metadata": {
    "collapsed": true
   },
   "outputs": [],
   "source": [
    "cat2.to_csv('/Users/Nick/IS/Datasets/catalog_IMGs_USE.csv', sep = ' ')"
   ]
  },
  {
   "cell_type": "code",
   "execution_count": null,
   "metadata": {
    "collapsed": true
   },
   "outputs": [],
   "source": []
  }
 ],
 "metadata": {
  "kernelspec": {
   "display_name": "Python 2",
   "language": "python",
   "name": "python2"
  },
  "language_info": {
   "codemirror_mode": {
    "name": "ipython",
    "version": 2
   },
   "file_extension": ".py",
   "mimetype": "text/x-python",
   "name": "python",
   "nbconvert_exporter": "python",
   "pygments_lexer": "ipython2",
   "version": "2.7.11"
  }
 },
 "nbformat": 4,
 "nbformat_minor": 0
}
