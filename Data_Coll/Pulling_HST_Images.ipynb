{
 "cells": [
  {
   "cell_type": "code",
   "execution_count": 2,
   "metadata": {
    "collapsed": true
   },
   "outputs": [],
   "source": [
    "import pandas as pd\n",
    "import numpy as np\n",
    "import glob"
   ]
  },
  {
   "cell_type": "code",
   "execution_count": 7,
   "metadata": {
    "collapsed": false
   },
   "outputs": [],
   "source": [
    "cat = pd.read_csv('/Users/Nick/IS/Datasets/catalog_IMGs_USE.csv', delim_whitespace = True, skiprows = 0)"
   ]
  },
  {
   "cell_type": "code",
   "execution_count": 8,
   "metadata": {
    "collapsed": false,
    "scrolled": true
   },
   "outputs": [
    {
     "data": {
      "text/html": [
       "<div>\n",
       "<table border=\"1\" class=\"dataframe\">\n",
       "  <thead>\n",
       "    <tr style=\"text-align: right;\">\n",
       "      <th></th>\n",
       "      <th>ID</th>\n",
       "      <th>z_peak</th>\n",
       "      <th>UmV</th>\n",
       "      <th>VmJ</th>\n",
       "      <th>SFR_UV</th>\n",
       "      <th>SFR_IR</th>\n",
       "      <th>SFR_tot</th>\n",
       "      <th>LMASS</th>\n",
       "      <th>ra</th>\n",
       "      <th>dec</th>\n",
       "      <th>USE</th>\n",
       "    </tr>\n",
       "  </thead>\n",
       "  <tbody>\n",
       "    <tr>\n",
       "      <th>0</th>\n",
       "      <td>34</td>\n",
       "      <td>0.3185</td>\n",
       "      <td>2.38</td>\n",
       "      <td>1.27</td>\n",
       "      <td>0.012</td>\n",
       "      <td>-0.794</td>\n",
       "      <td>0.012</td>\n",
       "      <td>9.71</td>\n",
       "      <td>150.38348</td>\n",
       "      <td>1.609724</td>\n",
       "      <td>0</td>\n",
       "    </tr>\n",
       "    <tr>\n",
       "      <th>1</th>\n",
       "      <td>60</td>\n",
       "      <td>0.3642</td>\n",
       "      <td>1.10</td>\n",
       "      <td>0.77</td>\n",
       "      <td>0.244</td>\n",
       "      <td>-1.134</td>\n",
       "      <td>0.244</td>\n",
       "      <td>9.17</td>\n",
       "      <td>150.40163</td>\n",
       "      <td>1.615784</td>\n",
       "      <td>1</td>\n",
       "    </tr>\n",
       "    <tr>\n",
       "      <th>2</th>\n",
       "      <td>85</td>\n",
       "      <td>0.3480</td>\n",
       "      <td>1.12</td>\n",
       "      <td>0.74</td>\n",
       "      <td>0.311</td>\n",
       "      <td>-1.004</td>\n",
       "      <td>0.311</td>\n",
       "      <td>9.24</td>\n",
       "      <td>150.37434</td>\n",
       "      <td>1.619130</td>\n",
       "      <td>1</td>\n",
       "    </tr>\n",
       "    <tr>\n",
       "      <th>3</th>\n",
       "      <td>136</td>\n",
       "      <td>0.3361</td>\n",
       "      <td>1.57</td>\n",
       "      <td>1.10</td>\n",
       "      <td>0.113</td>\n",
       "      <td>0.151</td>\n",
       "      <td>0.264</td>\n",
       "      <td>9.46</td>\n",
       "      <td>150.37727</td>\n",
       "      <td>1.627746</td>\n",
       "      <td>1</td>\n",
       "    </tr>\n",
       "    <tr>\n",
       "      <th>4</th>\n",
       "      <td>137</td>\n",
       "      <td>0.3600</td>\n",
       "      <td>1.22</td>\n",
       "      <td>0.79</td>\n",
       "      <td>0.682</td>\n",
       "      <td>0.310</td>\n",
       "      <td>0.992</td>\n",
       "      <td>9.68</td>\n",
       "      <td>150.39919</td>\n",
       "      <td>1.629076</td>\n",
       "      <td>1</td>\n",
       "    </tr>\n",
       "  </tbody>\n",
       "</table>\n",
       "</div>"
      ],
      "text/plain": [
       "    ID  z_peak   UmV   VmJ  SFR_UV  SFR_IR  SFR_tot  LMASS         ra  \\\n",
       "0   34  0.3185  2.38  1.27   0.012  -0.794    0.012   9.71  150.38348   \n",
       "1   60  0.3642  1.10  0.77   0.244  -1.134    0.244   9.17  150.40163   \n",
       "2   85  0.3480  1.12  0.74   0.311  -1.004    0.311   9.24  150.37434   \n",
       "3  136  0.3361  1.57  1.10   0.113   0.151    0.264   9.46  150.37727   \n",
       "4  137  0.3600  1.22  0.79   0.682   0.310    0.992   9.68  150.39919   \n",
       "\n",
       "        dec  USE  \n",
       "0  1.609724    0  \n",
       "1  1.615784    1  \n",
       "2  1.619130    1  \n",
       "3  1.627746    1  \n",
       "4  1.629076    1  "
      ]
     },
     "execution_count": 8,
     "metadata": {},
     "output_type": "execute_result"
    }
   ],
   "source": [
    "cat[0:5]"
   ]
  },
  {
   "cell_type": "code",
   "execution_count": 7,
   "metadata": {
    "collapsed": true
   },
   "outputs": [],
   "source": [
    "ra = cat['ra']\n",
    "dec = cat['dec']"
   ]
  },
  {
   "cell_type": "code",
   "execution_count": 67,
   "metadata": {
    "collapsed": false
   },
   "outputs": [],
   "source": [
    "bi = 4000\n",
    "en = len(ra)\n",
    "rd = open('/Users/Nick/IS/Text_Inputs/HST_RA_DEC_end', 'w')\n",
    "rd.write(\"ra dec\" + ' \\n')\n",
    "for ii in range (bi, en):\n",
    "    rd.write(str(ra[ii]) + ' ' + str(dec[ii]) + '\\n')\n",
    "rd.close()"
   ]
  },
  {
   "cell_type": "code",
   "execution_count": 69,
   "metadata": {
    "collapsed": false
   },
   "outputs": [],
   "source": [
    "#below is all needed for determing what galaxies do not have a corrosponidng image cutout, due to server failure\n",
    "#code can't be reused because all files have been renamed already - just here for reference\n",
    "#split into 6 sections because NASA server can only pull max 800 images in a single request"
   ]
  },
  {
   "cell_type": "code",
   "execution_count": 16,
   "metadata": {
    "collapsed": false
   },
   "outputs": [
    {
     "name": "stdout",
     "output_type": "stream",
     "text": [
      "775\n",
      "744\n",
      "778\n",
      "576\n",
      "766\n",
      "199\n"
     ]
    }
   ],
   "source": [
    "filefits1 = glob.glob('/Users/Nick/IS/HST_Images/HST_0800/*.fits')\n",
    "filefits2 = glob.glob('/Users/Nick/IS/HST_Images/HST_1600/*.fits')\n",
    "filefits3 = glob.glob('/Users/Nick/IS/HST_Images/HST_2400/*.fits')\n",
    "filefits4 = glob.glob('/Users/Nick/IS/HST_Images/HST_3200/*.fits')\n",
    "filefits5 = glob.glob('/Users/Nick/IS/HST_Images/HST_4000/*.fits')\n",
    "filefits6 = glob.glob('/Users/Nick/IS/HST_Images/HST_4265/*.fits')\n",
    "print len(filefits1)\n",
    "print len(filefits2)\n",
    "print len(filefits3)\n",
    "print len(filefits4)\n",
    "print len(filefits5)\n",
    "print len(filefits6)"
   ]
  },
  {
   "cell_type": "code",
   "execution_count": 17,
   "metadata": {
    "collapsed": false
   },
   "outputs": [
    {
     "name": "stdout",
     "output_type": "stream",
     "text": [
      "3838\n"
     ]
    }
   ],
   "source": [
    "filefits = filefits1 + filefits2 + filefits3 + filefits4 + filefits5 + filefits6\n",
    "print len(filefits)"
   ]
  },
  {
   "cell_type": "code",
   "execution_count": 8,
   "metadata": {
    "collapsed": false
   },
   "outputs": [],
   "source": [
    "zeroes = np.zeros(len(ra))\n",
    "cat['HST_Image'] = zeroes"
   ]
  },
  {
   "cell_type": "code",
   "execution_count": 19,
   "metadata": {
    "collapsed": false
   },
   "outputs": [],
   "source": [
    "#Pulling Right Ascension and Declination information for all galaxies in Hubble dataset\n",
    "ra_good = []\n",
    "dec_good = []\n",
    "for ii in range(0, len(filefits)):\n",
    "    num = filefits[ii][40:60]\n",
    "    nums = num.split('_')\n",
    "    numsi = float(nums[0])\n",
    "    dec = float(nums[1])\n",
    "    ra_good.append(numsi)\n",
    "    dec_good.append(dec)"
   ]
  },
  {
   "cell_type": "code",
   "execution_count": 21,
   "metadata": {
    "collapsed": false
   },
   "outputs": [],
   "source": [
    "#relating galaxies with images to their RA and DEC coordinates\n",
    "for ii in range(0, len(ra_good)):\n",
    "    col = cat[(cat['ra'] >= ra_good[ii]-.0001) & (cat['ra'] <= ra_good[ii]+.0001)& \n",
    "              (cat['dec'] >= dec_good[ii]-.0001) & (cat['dec'] <= dec_good[ii]+.0001)]\n",
    "    index = col.index.values.tolist()\n",
    "    index = int(index[0])\n",
    "    cat.loc[index, 'HST_Image'] = 1"
   ]
  },
  {
   "cell_type": "code",
   "execution_count": 23,
   "metadata": {
    "collapsed": false
   },
   "outputs": [],
   "source": [
    "cat\n",
    "cat.to_csv('/Users/Nick/IS/Datasets/catalog_IMGs1+HST_info', sep = ' ')"
   ]
  },
  {
   "cell_type": "raw",
   "metadata": {
    "collapsed": false
   },
   "source": [
    "Below is where I rename all the FITS images to have their index number and their galaxy ID:"
   ]
  },
  {
   "cell_type": "code",
   "execution_count": 24,
   "metadata": {
    "collapsed": true
   },
   "outputs": [],
   "source": [
    "def zeropad(n,zeros=4):\n",
    "    \"Pad number n with zeros. Example: zeropad(7,3) == '007'\"\n",
    "    nstr = str(n)\n",
    "    while len(nstr) < zeros:\n",
    "        nstr = \"0\" + nstr\n",
    "    return nstr"
   ]
  },
  {
   "cell_type": "code",
   "execution_count": 33,
   "metadata": {
    "collapsed": false
   },
   "outputs": [
    {
     "name": "stdout",
     "output_type": "stream",
     "text": [
      "3838\n"
     ]
    }
   ],
   "source": [
    "filefits = glob.glob('/Users/Nick/IS/HST_Images/All/*')\n",
    "print len(filefits)"
   ]
  },
  {
   "cell_type": "code",
   "execution_count": 34,
   "metadata": {
    "collapsed": false
   },
   "outputs": [],
   "source": [
    "rename = open('/Users/Nick/IS/Text_Inputs/rename2.txt', 'w')\n",
    "rename.write(\"#!/bin/bash\\n\")"
   ]
  },
  {
   "cell_type": "code",
   "execution_count": 35,
   "metadata": {
    "collapsed": false
   },
   "outputs": [],
   "source": [
    "for ii in range(0, len(ra_good)):\n",
    "    col = cat[(cat['ra'] >= ra_good[ii]-.0001) & (cat['ra'] <= ra_good[ii]+.0001)& \n",
    "              (cat['dec'] >= dec_good[ii]-.0001) & (cat['dec'] <= dec_good[ii]+.0001)]\n",
    "    index = col.index.values.tolist()\n",
    "    index = int(index[0])\n",
    "    indexz = zeropad(index)\n",
    "    ID = int(cat.loc[index, 'ID'])\n",
    "    rename.write('mv '+ str(filefits[ii]) + ' /Users/Nick/IS/HST_Images/All/%sID%s.fits\\n' % (str(indexz), str(ID)))"
   ]
  },
  {
   "cell_type": "code",
   "execution_count": 36,
   "metadata": {
    "collapsed": false
   },
   "outputs": [],
   "source": [
    "rename.close()\n"
   ]
  },
  {
   "cell_type": "markdown",
   "metadata": {
    "collapsed": true
   },
   "source": [
    "Below is for pulling all galaxies with an HST image and a USE value on the UVISTA dataset"
   ]
  },
  {
   "cell_type": "code",
   "execution_count": 11,
   "metadata": {
    "collapsed": false
   },
   "outputs": [],
   "source": [
    "cat_HST = pd.read_csv('/Users/Nick/IS/Datasets/catalog_IMGs1+HST_info', delim_whitespace = True)\n",
    "USE = cat['USE']\n",
    "cat_HST['USE'] = USE\n",
    "cat_HST_o = cat_HST[(cat_HST['HST_Image'] == 1.0)]\n",
    "cat_HST_o = cat_HST_o.reset_index()\n",
    "del cat_HST_o['index']\n",
    "USE2 = cat_HST_o['USE']\n",
    "cat_HST2 = cat_HST[(cat_HST['HST_Image'] == 1.0) & (cat_HST['USE']== 1)]\n",
    "#this is the catalog that contains all galaxys for which there is a HST image and USE = 1"
   ]
  },
  {
   "cell_type": "code",
   "execution_count": 12,
   "metadata": {
    "collapsed": true
   },
   "outputs": [],
   "source": [
    "cat_HST2 = cat_HST2.reset_index()\n",
    "#index must be reset so there are no missing values\n",
    "del cat_HST2['index']"
   ]
  },
  {
   "cell_type": "code",
   "execution_count": 102,
   "metadata": {
    "collapsed": true
   },
   "outputs": [],
   "source": [
    "cat_HST2.to_csv('/Users/Nick/IS/Datasets/cat_USE.csv', sep = ' ')"
   ]
  },
  {
   "cell_type": "code",
   "execution_count": null,
   "metadata": {
    "collapsed": true
   },
   "outputs": [],
   "source": []
  }
 ],
 "metadata": {
  "kernelspec": {
   "display_name": "Python 2",
   "language": "python",
   "name": "python2"
  },
  "language_info": {
   "codemirror_mode": {
    "name": "ipython",
    "version": 2
   },
   "file_extension": ".py",
   "mimetype": "text/x-python",
   "name": "python",
   "nbconvert_exporter": "python",
   "pygments_lexer": "ipython2",
   "version": "2.7.11"
  }
 },
 "nbformat": 4,
 "nbformat_minor": 0
}
